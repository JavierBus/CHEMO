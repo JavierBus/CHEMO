{
  "nbformat": 4,
  "nbformat_minor": 0,
  "metadata": {
    "colab": {
      "provenance": [],
      "authorship_tag": "ABX9TyPXFd2Vc5wP8CC4U3IXZyo+",
      "include_colab_link": true
    },
    "kernelspec": {
      "name": "python3",
      "display_name": "Python 3"
    },
    "language_info": {
      "name": "python"
    }
  },
  "cells": [
    {
      "cell_type": "markdown",
      "metadata": {
        "id": "view-in-github",
        "colab_type": "text"
      },
      "source": [
        "<a href=\"https://colab.research.google.com/github/JavierBus/CHEMO/blob/main/CHEMO_JAVIER_B_.ipynb\" target=\"_parent\"><img src=\"https://colab.research.google.com/assets/colab-badge.svg\" alt=\"Open In Colab\"/></a>"
      ]
    },
    {
      "cell_type": "markdown",
      "source": [
        "##Codigo genetico\n",
        "A continuacion vamos a mostrar la secuencia de ADN con la que nos toca trabajar, y vamos a realizar diferentes procedimientos con el."
      ],
      "metadata": {
        "id": "kRlU6OfEqjJf"
      }
    },
    {
      "cell_type": "code",
      "source": [
        "import requests\n",
        "\n",
        "url = \"https://raw.githubusercontent.com/JavierBus/CHEMO/main/codigogenetico\"\n",
        "response = requests.get(url)\n",
        "\n",
        "if response.status_code == 200:\n",
        "    ADN = response.text\n",
        "    print(f'Tipo variable ADN: {type(ADN)}')\n",
        "else:\n",
        "    print(f\"Error al acceder al archivo. Código de estado: {response.status_code}\")"
      ],
      "metadata": {
        "colab": {
          "base_uri": "https://localhost:8080/"
        },
        "id": "LJej5GYNpy8x",
        "outputId": "484d2a19-cf18-4545-debf-282e78577c1f"
      },
      "execution_count": null,
      "outputs": [
        {
          "output_type": "stream",
          "name": "stdout",
          "text": [
            "Tipo variable ADN: <class 'str'>\n"
          ]
        }
      ]
    },
    {
      "cell_type": "code",
      "source": [
        "print('La secuencia de material genetico entregada para realizar la actividad es:')\n",
        "print(ADN)"
      ],
      "metadata": {
        "colab": {
          "base_uri": "https://localhost:8080/"
        },
        "id": "lXjcMJJiqwd0",
        "outputId": "99d04bff-c829-46c0-9060-60e161867a8d"
      },
      "execution_count": null,
      "outputs": [
        {
          "output_type": "stream",
          "name": "stdout",
          "text": [
            "La secuencia de material genetico entregada para realizar la actividad es:\n",
            "ACAAGTCTTTCCGCCTCCCCAGCCCGCCCGGGAGCTGCGAGCCGCGAGCTGGATTATGGTGGCCTGAGCAGCCAACGCAGCCGCAGGAGCCCGGAGCCCTTGCCCCTGCCCGCGC\n",
            "CGCCGCCCGCCGGGGGGACCAGGGAAGCCGCCACCGGCCCGCCATGCCCGCCCCTCCCAGCCCCGCCGGGAGCCCGCGCCCGCTGCCCAGGCTGGCCGCCGCCGTGCCGATGTAG\n",
            "CGGGCTCCGGATCCCAGCCTCTCCCCTGCTCCCGTGCTCTGCGGATCTCCCCTGACCGCTCTCCACAGCCCGGACCCGGGGGCTGGCCCAGGGCCCTGCAGGCCCTGGCGTCCTG\n",
            "ATGCCCCCAAGCTCCCTCTCCTGAGAAGCCACCAGCACCACCCAGACTTGGGGGCAGGCGCCAGGGACGGACGTGGGCCAGTGCGAGCCCAGAGGGCCCGAAGGCCGGGGCCCAC\n",
            "CATGGCCCAAGCCCTGCCCTGGCTCCTGCTGTGGATGGGCGCGGGAGTGCTGCCTGCCCACGGCACCCAGCACGGCATCCGGCTGCCCCTGCGCAGCGGCCTGGGGGGCGCCCCC\n",
            "CTGGGGCTGCGGCTGCCCCGGGAGACCGACGAAGAGCCCGAGGAGCCCGGCCGGAGGGGCAGCTTTGTGGAGATGGTGGACAACCTGAGGGGCAAGTCGGGGCAGGGCTACTACG\n",
            "TGGAGATGACCGTGGGCAGCCCCCCGCAGACGGTAAGGTGGTCAGGCCAGCCCTTAGCCCTCCGCCTGCATGAGCAGAGGGGAGACAGGATGGGGATGCCTCAAGCTAGCCCCTG\n",
            "CTCAAATGGGCTGGTGGGGACAGCAGGAGGGACCCCTCCCCAGCCATTCCCCGGGGGTCACGTGGTTGTTGGCAGAAGTGTTCCCAAGCTCCCCATTCCCTCCTCGTCTCCCCTG\n",
            "GCTGCCTAGTTCCCCTTGCTCCTCATCTGACACATACGCCGTCTGGAAGGATTTGAGGCAAGACAGACACATCAGCTGGGGACCCTGACCTGGAGGAAGGGTCCGCCACAGGGGC\n",
            "ACTATAACAGGTGTCAGCCCCCTCTGACAGTGGCCCAGTCCGAGTCTCCCAAATCCCACCACTCTAGAGGTTGGCCACCCAACCTTGTCCCCTCCTCTGATTCCCACCATTGTTC\n",
            "CCAGTACCTCCAGGACCAAGGAATCCTGGCAGCAGTTGAATAAGCACCTTGCTCCCACCATCTGGGCTGCCACTGGTACGGCAAAGTGAGGTTGTCGAGGCCCCCCTGACTGCAC\n",
            "TCCGCCCGGAAGCCCTGGACAGGCTCCTGCCGTCCCCTCCTCCTCCCCTTCTCCCTCTCGCGGTCTACACTCCGGCCCCTCCCCCACCCCACACCTCCCCAGGCCAGAGGGGAAC\n",
            "TGAACTGAGCCTGGTGAAAGAACAAATGGTAGGAAAGGAGCCAGAGCTCCCTTTTAAGAGTGGGACTCCTTCCATGGCGGGGGAGAGGGGAGTTACAGAGAAAACACTGTTATGC\n",
            "CCTCCCCATCCTTCCTGACAATCTCCAAGGTACCTTCAAGGTGGCTGGTGGAGGTGGCACCCTCTGCACCTCTGTGGGTGAGCAGCCCTCCATGTGGGGTGCTGTGGCTGACCTC\n",
            "TGTGTGCATCTGCCGCCTCTGTGGGGCAGTCCGGGCCCGGGCAGCCCTGTGGTTCTGTGTATGCTGGTGCGTGTCACCTTGAATCTGATCCTGCACATCTGTGAGCCACCTCCGG\n",
            "ATCTGTGTCTGGGAAGTCTGTCCTTGGGAGGGTCTGTGAAGGTGGGAGTGTGTTTGGGGTGGGCGGAGGGGACAGCCACACTTTCCTGAACTTCTCAGACAGCTGGATCTGGGAG\n",
            "AAACACAAACCCCCACCTCCCAATTACTTTACAGAAGCCAGCCTTCCTAGGTGCGTGCTCCCCAGCCCTACCTCTCAGCTAGTCGAAAGCCTGGTCTTCCCCACTTTCTCATCCT\n",
            "CTTTCCTGTGCACCATAACTTCCCCAGCAGTAGTCTCCAGTGGGAATTTGGGAGGGCAGGACAGAAGCCAAATCCAGGCCCTGAGCAAACAGAACGCTAGATGATATCGTCAGGG\n",
            "AGCAGCAGGTATGCAGAGACCTGGGACCTACTCCTGTTTCTGCGACTGACATGCTGTGCACACTGTGCATGGACCCCATGGCACGATGCAGGACGGGGCTGCAGAACCCACACAA\n",
            "GCTTTGAGGTCAGACAGTCCACGAATCCCAGCTCTACCACCCACAGCTTTTCCTCTTCTCAGCTGTGTGGCCTTGGGCAAATTGCATAACCTCTCTGAAACTACTGTCATATCTT\n",
            "TAAAATGAGTAGGAAATGAGACCTCCTTTGCAAGGTAATTGTGAGGATTAAGTTGTGAGGGTTAATTGTTCTAGGTGCTTTCACCCAGAACAATACACCAGCATATAAAACTGAC\n",
            "CTCCAACAAATATGAAGTCACTTTATCCTTGTCTGGCCTGTTCTGCCTCTTCAATTCTATGCAATGAGGCATAAAAACTCGGATGTCCTGGGCCTCCACGTTTTACATGTATAAA\n",
            "ACTGGGGTATCCTGTAATCCCAGCACTTTGGGGGGCCAAGGTGGGCAGATCACCTGAGGTCAGGAGTTCGAGACCAGCTTGGCTAACATAGCAAAACCCTGTTTCTACTAAAAAT\n",
            "ACAAAAATAATTCGCCGGGCCTGGTGGCATGCACCTGTAATCCCAGCTACTCAGGAGGCTGAGGCAGGAGAATCGCTTGAACCTGGGAGGCGGAGGTTGCAGTGAGACAAGATCG\n",
            "CACCATTGCCCTCCAGCCTGGGCAACAAGAGCAAAACTCTGTCTCAGAAAAAATAAAAACAAAAACAAAAACGGGGTATCCATTGCTGTACTTCCCTGATCCCCTGAAATAATGC\n",
            "ATACATCCTGCAGCCCAGTACTTAGCAGAGAGTAATTGCTCAATAAATGTCAGTTCCTTCCTCGTTCCTTTCTAGAAGAGGAAAGTGGGCTTAAAGTTCAACACCAGTCCAGGAA\n",
            "GCTAGTGCCAGGGAGCCCACAACTAAAGCAACTGTGTGGCTTGCACTATGATTTCTAACTAAGCCTGCATCAGCCAGTCTCTGCTCTCTGGTGGCTTGGACTCTCTCCCCATCTG\n",
            "TCTGTAAGAAGGACGCCCTTTCTTCCTACCTGGCGCGGCTGTTGTAAGTGCCAAATGAGAACTTGGATGGCATTGTATTCTGAACAAGAAAAAGTAAAATTTGGGGAGCACTTTC\n",
            "TCTGTGCTAGGCAATTAATTGGTGGTGCCTGGGGGCTGATCCACAAAGAGACAAGAAGACATGTTTTCTGCCCACATAGAGTTACAGTGGAAGTGAAAGGGCGGAAGTGACGAGT\n",
            "ACAAGGTCATCCATGCAGATATACTCAAAGCGAGGTCGGCAAACCCTCATTGGAGTCAGCTAAAAATGTAAATTCCCTGGCCCCATCCCTGACCTCTAGAGACAGGATCTCTGAC\n",
            "AGTGGGGCCCCGTAGTTTGTGCCTCAAATTTGAGAACCATTTATGGCTGGACGCGGTGGCTCACGCCTGTAATCCCAACACTTTGGGAGGCTGAGGCCGGCGGATCACCTGAGGT\n",
            "CAGGAGTTCGCGACCAGCCTGGCCAACGTGGTGAAACCCCATCTCTACGAAAAATGCAAAAATTATCTGGGCATG\n",
            "\n"
          ]
        }
      ]
    },
    {
      "cell_type": "markdown",
      "source": [
        "## Transcripcion\n",
        "\n",
        "Ahora vamos a proceder con la primera parte de la actividad 1, que consiste en mostrar el codigo genetico ADN en forma de ARN remplazando las Timina (T) por Uracilo (U)"
      ],
      "metadata": {
        "id": "W21Q966JpiR4"
      }
    },
    {
      "cell_type": "code",
      "source": [
        "# Transcripción de la secuencia de  ADN a ARN\n",
        "ARN = ADN.replace(\"T\",\"U\")\n",
        "print (\"Secuencia ARNm:\\n\", str(ARN))"
      ],
      "metadata": {
        "colab": {
          "base_uri": "https://localhost:8080/"
        },
        "id": "eJwMrsDlsxjG",
        "outputId": "1e8a0802-9d8f-45f6-c7de-461479901836"
      },
      "execution_count": null,
      "outputs": [
        {
          "output_type": "stream",
          "name": "stdout",
          "text": [
            "Secuencia ARNm:\n",
            " ACAAGUCUUUCCGCCUCCCCAGCCCGCCCGGGAGCUGCGAGCCGCGAGCUGGAUUAUGGUGGCCUGAGCAGCCAACGCAGCCGCAGGAGCCCGGAGCCCUUGCCCCUGCCCGCGC\n",
            "CGCCGCCCGCCGGGGGGACCAGGGAAGCCGCCACCGGCCCGCCAUGCCCGCCCCUCCCAGCCCCGCCGGGAGCCCGCGCCCGCUGCCCAGGCUGGCCGCCGCCGUGCCGAUGUAG\n",
            "CGGGCUCCGGAUCCCAGCCUCUCCCCUGCUCCCGUGCUCUGCGGAUCUCCCCUGACCGCUCUCCACAGCCCGGACCCGGGGGCUGGCCCAGGGCCCUGCAGGCCCUGGCGUCCUG\n",
            "AUGCCCCCAAGCUCCCUCUCCUGAGAAGCCACCAGCACCACCCAGACUUGGGGGCAGGCGCCAGGGACGGACGUGGGCCAGUGCGAGCCCAGAGGGCCCGAAGGCCGGGGCCCAC\n",
            "CAUGGCCCAAGCCCUGCCCUGGCUCCUGCUGUGGAUGGGCGCGGGAGUGCUGCCUGCCCACGGCACCCAGCACGGCAUCCGGCUGCCCCUGCGCAGCGGCCUGGGGGGCGCCCCC\n",
            "CUGGGGCUGCGGCUGCCCCGGGAGACCGACGAAGAGCCCGAGGAGCCCGGCCGGAGGGGCAGCUUUGUGGAGAUGGUGGACAACCUGAGGGGCAAGUCGGGGCAGGGCUACUACG\n",
            "UGGAGAUGACCGUGGGCAGCCCCCCGCAGACGGUAAGGUGGUCAGGCCAGCCCUUAGCCCUCCGCCUGCAUGAGCAGAGGGGAGACAGGAUGGGGAUGCCUCAAGCUAGCCCCUG\n",
            "CUCAAAUGGGCUGGUGGGGACAGCAGGAGGGACCCCUCCCCAGCCAUUCCCCGGGGGUCACGUGGUUGUUGGCAGAAGUGUUCCCAAGCUCCCCAUUCCCUCCUCGUCUCCCCUG\n",
            "GCUGCCUAGUUCCCCUUGCUCCUCAUCUGACACAUACGCCGUCUGGAAGGAUUUGAGGCAAGACAGACACAUCAGCUGGGGACCCUGACCUGGAGGAAGGGUCCGCCACAGGGGC\n",
            "ACUAUAACAGGUGUCAGCCCCCUCUGACAGUGGCCCAGUCCGAGUCUCCCAAAUCCCACCACUCUAGAGGUUGGCCACCCAACCUUGUCCCCUCCUCUGAUUCCCACCAUUGUUC\n",
            "CCAGUACCUCCAGGACCAAGGAAUCCUGGCAGCAGUUGAAUAAGCACCUUGCUCCCACCAUCUGGGCUGCCACUGGUACGGCAAAGUGAGGUUGUCGAGGCCCCCCUGACUGCAC\n",
            "UCCGCCCGGAAGCCCUGGACAGGCUCCUGCCGUCCCCUCCUCCUCCCCUUCUCCCUCUCGCGGUCUACACUCCGGCCCCUCCCCCACCCCACACCUCCCCAGGCCAGAGGGGAAC\n",
            "UGAACUGAGCCUGGUGAAAGAACAAAUGGUAGGAAAGGAGCCAGAGCUCCCUUUUAAGAGUGGGACUCCUUCCAUGGCGGGGGAGAGGGGAGUUACAGAGAAAACACUGUUAUGC\n",
            "CCUCCCCAUCCUUCCUGACAAUCUCCAAGGUACCUUCAAGGUGGCUGGUGGAGGUGGCACCCUCUGCACCUCUGUGGGUGAGCAGCCCUCCAUGUGGGGUGCUGUGGCUGACCUC\n",
            "UGUGUGCAUCUGCCGCCUCUGUGGGGCAGUCCGGGCCCGGGCAGCCCUGUGGUUCUGUGUAUGCUGGUGCGUGUCACCUUGAAUCUGAUCCUGCACAUCUGUGAGCCACCUCCGG\n",
            "AUCUGUGUCUGGGAAGUCUGUCCUUGGGAGGGUCUGUGAAGGUGGGAGUGUGUUUGGGGUGGGCGGAGGGGACAGCCACACUUUCCUGAACUUCUCAGACAGCUGGAUCUGGGAG\n",
            "AAACACAAACCCCCACCUCCCAAUUACUUUACAGAAGCCAGCCUUCCUAGGUGCGUGCUCCCCAGCCCUACCUCUCAGCUAGUCGAAAGCCUGGUCUUCCCCACUUUCUCAUCCU\n",
            "CUUUCCUGUGCACCAUAACUUCCCCAGCAGUAGUCUCCAGUGGGAAUUUGGGAGGGCAGGACAGAAGCCAAAUCCAGGCCCUGAGCAAACAGAACGCUAGAUGAUAUCGUCAGGG\n",
            "AGCAGCAGGUAUGCAGAGACCUGGGACCUACUCCUGUUUCUGCGACUGACAUGCUGUGCACACUGUGCAUGGACCCCAUGGCACGAUGCAGGACGGGGCUGCAGAACCCACACAA\n",
            "GCUUUGAGGUCAGACAGUCCACGAAUCCCAGCUCUACCACCCACAGCUUUUCCUCUUCUCAGCUGUGUGGCCUUGGGCAAAUUGCAUAACCUCUCUGAAACUACUGUCAUAUCUU\n",
            "UAAAAUGAGUAGGAAAUGAGACCUCCUUUGCAAGGUAAUUGUGAGGAUUAAGUUGUGAGGGUUAAUUGUUCUAGGUGCUUUCACCCAGAACAAUACACCAGCAUAUAAAACUGAC\n",
            "CUCCAACAAAUAUGAAGUCACUUUAUCCUUGUCUGGCCUGUUCUGCCUCUUCAAUUCUAUGCAAUGAGGCAUAAAAACUCGGAUGUCCUGGGCCUCCACGUUUUACAUGUAUAAA\n",
            "ACUGGGGUAUCCUGUAAUCCCAGCACUUUGGGGGGCCAAGGUGGGCAGAUCACCUGAGGUCAGGAGUUCGAGACCAGCUUGGCUAACAUAGCAAAACCCUGUUUCUACUAAAAAU\n",
            "ACAAAAAUAAUUCGCCGGGCCUGGUGGCAUGCACCUGUAAUCCCAGCUACUCAGGAGGCUGAGGCAGGAGAAUCGCUUGAACCUGGGAGGCGGAGGUUGCAGUGAGACAAGAUCG\n",
            "CACCAUUGCCCUCCAGCCUGGGCAACAAGAGCAAAACUCUGUCUCAGAAAAAAUAAAAACAAAAACAAAAACGGGGUAUCCAUUGCUGUACUUCCCUGAUCCCCUGAAAUAAUGC\n",
            "AUACAUCCUGCAGCCCAGUACUUAGCAGAGAGUAAUUGCUCAAUAAAUGUCAGUUCCUUCCUCGUUCCUUUCUAGAAGAGGAAAGUGGGCUUAAAGUUCAACACCAGUCCAGGAA\n",
            "GCUAGUGCCAGGGAGCCCACAACUAAAGCAACUGUGUGGCUUGCACUAUGAUUUCUAACUAAGCCUGCAUCAGCCAGUCUCUGCUCUCUGGUGGCUUGGACUCUCUCCCCAUCUG\n",
            "UCUGUAAGAAGGACGCCCUUUCUUCCUACCUGGCGCGGCUGUUGUAAGUGCCAAAUGAGAACUUGGAUGGCAUUGUAUUCUGAACAAGAAAAAGUAAAAUUUGGGGAGCACUUUC\n",
            "UCUGUGCUAGGCAAUUAAUUGGUGGUGCCUGGGGGCUGAUCCACAAAGAGACAAGAAGACAUGUUUUCUGCCCACAUAGAGUUACAGUGGAAGUGAAAGGGCGGAAGUGACGAGU\n",
            "ACAAGGUCAUCCAUGCAGAUAUACUCAAAGCGAGGUCGGCAAACCCUCAUUGGAGUCAGCUAAAAAUGUAAAUUCCCUGGCCCCAUCCCUGACCUCUAGAGACAGGAUCUCUGAC\n",
            "AGUGGGGCCCCGUAGUUUGUGCCUCAAAUUUGAGAACCAUUUAUGGCUGGACGCGGUGGCUCACGCCUGUAAUCCCAACACUUUGGGAGGCUGAGGCCGGCGGAUCACCUGAGGU\n",
            "CAGGAGUUCGCGACCAGCCUGGCCAACGUGGUGAAACCCCAUCUCUACGAAAAAUGCAAAAAUUAUCUGGGCAUG\n",
            "\n"
          ]
        }
      ]
    },
    {
      "cell_type": "code",
      "source": [
        "# ¿Cuantas veces la Timina fue remplazada por Uracilo?\n",
        "ARN.count('U')"
      ],
      "metadata": {
        "colab": {
          "base_uri": "https://localhost:8080/"
        },
        "id": "teVtxLCktmOB",
        "outputId": "fe6184f4-ac03-4fea-c0b7-1f67caa6a8f5"
      },
      "execution_count": null,
      "outputs": [
        {
          "output_type": "execute_result",
          "data": {
            "text/plain": [
              "740"
            ]
          },
          "metadata": {},
          "execution_count": 8
        }
      ]
    },
    {
      "cell_type": "markdown",
      "source": [
        "##Traduccion\n",
        "Ahora vamos a proceder con la segunda parte de la actividad 1, donde tenemos que traduccir la secuencia de ARN a sus respectivos aminoacidos (asi determinar la secuencia aminoacidica)."
      ],
      "metadata": {
        "id": "97z0GkTnuy6z"
      }
    },
    {
      "cell_type": "code",
      "source": [
        "# MUY IMPORTANTE, PARA PODER TRADUCIR LA SECUENCIA DE ARN PRIMERO DEBEMOS ESTABLECER UN DICCIONARIO DE CODONES\n",
        "# EL DICCIONARIO DE CODONES CONSISTE EN UN METODO DE KEY:VALUE (key = codon, value = aminoacido)\n",
        "\n",
        "#Diccionario de codones para la traduccion\n",
        "código_genetico = {\"GUU\": \"V\", \"GUC\": \"V\", \"GUA\": \"V\", \"GUG\": \"V\", \"GCU\": \"A\", \"GCC\": \"A\", \"GCA\": \"A\", \"GCG\": \"A\",\n",
        "                \"GAU\": \"D\", \"GAC\": \"D\", \"GAA\": \"E\", \"GAG\": \"E\", \"GGU\": \"G\", \"GGC\": \"G\", \"GGA\": \"G\", \"GGG\": \"G\",\n",
        "                \"AGA\": \"R\", \"AGG\": \"R\", \"AGU\": \"S\", \"AGC\": \"S\", \"AAU\": \"N\", \"AAC\": \"N\", \"AAA\": \"K\", \"AAG\": \"K\",\n",
        "                \"ACU\": \"T\", \"ACC\": \"T\", \"ACA\": \"T\", \"ACG\": \"T\", \"AUU\": \"I\", \"AUC\": \"I\", \"AUA\": \"I\", \"AUG\": \"M\",\n",
        "                \"CGU\": \"R\", \"CGC\": \"R\", \"CGA\": \"R\", \"CGG\": \"R\", \"CCU\": \"P\", \"CCC\": \"P\", \"CCA\": \"P\", \"CCG\": \"P\",\n",
        "                \"CAU\": \"H\", \"CAC\": \"H\", \"CAA\": \"Q\", \"CAG\": \"Q\", \"UUU\": \"F\", \"UUC\": \"F\", \"UUA\": \"L\", \"UUG\": \"L\",\n",
        "                \"UCU\": \"S\", \"UCC\": \"S\", \"UCA\": \"S\", \"UCG\": \"S\", \"UAU\": \"Y\", \"UAC\": \"Y\", \"UAA\": \"STOP\", \"UAG\": \"STOP\",\n",
        "                \"UGU\": \"C\", \"UGC\": \"C\", \"UGA\": \"STOP\", \"UGG\": \"W\", \"CUU\": \"L\", \"CUC\": \"L\", \"CUA\": \"L\", \"CUG\": \"L\"}\n",
        "\n",
        "print(f'Los codones son: \\n{list(código_genetico.keys())}')\n",
        "print('-----------------')\n",
        "print(f'Los aminoácidos son: \\n{list(código_genetico.values())}')"
      ],
      "metadata": {
        "colab": {
          "base_uri": "https://localhost:8080/"
        },
        "id": "teePmd3jvWnf",
        "outputId": "f1194b0c-6926-44e4-a3d3-2cdd404a2c26"
      },
      "execution_count": null,
      "outputs": [
        {
          "output_type": "stream",
          "name": "stdout",
          "text": [
            "Los codones son: \n",
            "['GUU', 'GUC', 'GUA', 'GUG', 'GCU', 'GCC', 'GCA', 'GCG', 'GAU', 'GAC', 'GAA', 'GAG', 'GGU', 'GGC', 'GGA', 'GGG', 'AGA', 'AGG', 'AGU', 'AGC', 'AAU', 'AAC', 'AAA', 'AAG', 'ACU', 'ACC', 'ACA', 'ACG', 'AUU', 'AUC', 'AUA', 'AUG', 'CGU', 'CGC', 'CGA', 'CGG', 'CCU', 'CCC', 'CCA', 'CCG', 'CAU', 'CAC', 'CAA', 'CAG', 'UUU', 'UUC', 'UUA', 'UUG', 'UCU', 'UCC', 'UCA', 'UCG', 'UAU', 'UAC', 'UAA', 'UAG', 'UGU', 'UGC', 'UGA', 'UGG', 'CUU', 'CUC', 'CUA', 'CUG']\n",
            "-----------------\n",
            "Los aminoácidos son: \n",
            "['V', 'V', 'V', 'V', 'A', 'A', 'A', 'A', 'D', 'D', 'E', 'E', 'G', 'G', 'G', 'G', 'R', 'R', 'S', 'S', 'N', 'N', 'K', 'K', 'T', 'T', 'T', 'T', 'I', 'I', 'I', 'M', 'R', 'R', 'R', 'R', 'P', 'P', 'P', 'P', 'H', 'H', 'Q', 'Q', 'F', 'F', 'L', 'L', 'S', 'S', 'S', 'S', 'Y', 'Y', 'STOP', 'STOP', 'C', 'C', 'STOP', 'W', 'L', 'L', 'L', 'L']\n"
          ]
        }
      ]
    },
    {
      "cell_type": "code",
      "source": [
        "# AHORA ESTABLECIDO EL DICICONARIO, PODEMOS DETERMINAR QUE AMINOACIDOS TENEMOS EN NUESTROS TRIPLETES DE CADENA DE ARN\n",
        "\n",
        "import requests\n",
        "\n",
        "# Definir el enlace URL del documento\n",
        "url = \"https://raw.githubusercontent.com/JavierBus/CHEMO/main/codigogenetico\"\n",
        "\n",
        "# Realizar una solicitud HTTP GET al enlace URL\n",
        "response = requests.get(url)\n",
        "\n",
        "if response.status_code == 200:\n",
        "    # Obtener el contenido del archivo desde la respuesta\n",
        "    sec_ADN = response.text\n",
        "\n",
        "    # Procesar la secuencia de manera similar al código anterior\n",
        "    ADN_SEC = ''.join(sec_ADN.split('\\n')[1:])\n",
        "    ARN_SEC = ADN_SEC.replace(\"T\", \"U\")\n",
        "    run = True\n",
        "    i = 0\n",
        "    for i in range(len(ARN_SEC)):\n",
        "        if ARN_SEC[i:i + 3] == 'AUG':  # Inicio de proteína encontrado\n",
        "            ARN_SEC = ARN_SEC[i:]  # Recorte de secuencia. Nuevo ARN\n",
        "            break\n",
        "        if i >= (len(ARN_SEC) - 3):  # Inicio de proteína NO encontrado\n",
        "            print('No se encontró el codón de inicio AUG')\n",
        "            ARN_SEC = ARN_SEC[i:i + 3]\n",
        "            run = False\n",
        "            break\n",
        "\n",
        "    proteina = list()\n",
        "    if run:\n",
        "        i = 0\n",
        "        # Inicio de la traducción\n",
        "        while i <= len(ARN_SEC) - 2:\n",
        "            codon = código_genetico[ARN_SEC[i:i + 3]]\n",
        "            proteina.append(codon)\n",
        "            i += 3\n",
        "            if codon == 'STOP':\n",
        "                print(f'>> Proteína encontrada')\n",
        "                ARN_SEC = ARN_SEC[i:]  # Nuevo ARN (recortado)\n",
        "                proteina = proteina[:-1]\n",
        "                texto_proteina = ''.join(proteina)\n",
        "                print(f'Proteina: {texto_proteina}')\n",
        "                break\n",
        "            if i >= (len(ARN_SEC) - 3):\n",
        "                print('No se encontró el codón STOP')\n",
        "                ARN_SEC = ARN_SEC[i:i + 3]\n",
        "                break\n",
        "\n",
        "else:\n",
        "    print(f\"Error al acceder al archivo. Código de estado: {response.status_code}\")"
      ],
      "metadata": {
        "colab": {
          "base_uri": "https://localhost:8080/"
        },
        "id": "N1crHEfdwLZ2",
        "outputId": "8fd4d5b5-5cbf-4e8c-f8be-d033c93c8023"
      },
      "execution_count": null,
      "outputs": [
        {
          "output_type": "stream",
          "name": "stdout",
          "text": [
            ">> Proteína encontrada\n",
            "Proteina: MPAPPSPAGSPRPLPRLAAAVPM\n"
          ]
        }
      ]
    },
    {
      "cell_type": "markdown",
      "source": [
        "## Propiedades de la nueva proteina\n",
        "Una vez ya tenemos la secuencia de ADN, ARN y aminoacidica, podemos proceder a la segunda actividad, que consiste en calcular las propiedades de la proteina (Número de aminoacidos que componen la proteina, clasificación de los aminoácidos y propiedad más común)."
      ],
      "metadata": {
        "id": "08TxGuw9xqcv"
      }
    },
    {
      "cell_type": "code",
      "source": [
        "# Nuevamente debemos de generar un diccionario de aminoacidos, pero esta vez no de tripletes con su respectivo aminoacido, sino que, ver el aminoacido y cual es su calificacion respecto a polaridad y acidez o basicidad\n",
        "#Diccionario de aminoácidos para su clasificación\n",
        "propiedades= {\"A\": \"Apolar\", \"V\": \"Apolar\", \"L\": \"Apolar\", \"G\": \"Apolar\", \"I\": \"Apolar\", \"F\": \"Apolar\",\"W\": \"Apolar\", \"M\": \"Apolar\", \"P\": \"Apolar\", \"S\": \"Polar\", \"T\": \"Polar\", \"Y\": \"Polar\", \"N\": \"Polar\", \"Q\": \"Polar\", \"C\": \"Polar\", \"D\": \"Ácidos\", \"E\": \"Ácidos\", \"K\": \"Básicos\", \"R\": \"Básicos\",  \"H\": \"Básicos\"}\n",
        "\n",
        "print(f'Los aminoácidos son: \\n{list(propiedades.keys())}')\n",
        "print('-----------------')\n",
        "print(f'Las propiedades son: \\n{set(propiedades.values())}') # MUY IMPORTANTE ACA ES QUE NO DEBEMOS OCUPAR ''LIST'' si no que ''SET'' ya que estamos clasificando y no se debe repetir las propiedades"
      ],
      "metadata": {
        "colab": {
          "base_uri": "https://localhost:8080/"
        },
        "id": "yWdLU_KpyG-g",
        "outputId": "b8fe2023-d0ed-4bf4-d83c-513608b23139"
      },
      "execution_count": null,
      "outputs": [
        {
          "output_type": "stream",
          "name": "stdout",
          "text": [
            "Los aminoácidos son: \n",
            "['A', 'V', 'L', 'G', 'I', 'F', 'W', 'M', 'P', 'S', 'T', 'Y', 'N', 'Q', 'C', 'D', 'E', 'K', 'R', 'H']\n",
            "-----------------\n",
            "Las propiedades son: \n",
            "{'Apolar', 'Ácidos', 'Básicos', 'Polar'}\n"
          ]
        }
      ]
    },
    {
      "cell_type": "code",
      "source": [
        "def total_elements(lista_proteina):\n",
        "    # Se importa el módulo a utilizar\n",
        "    from collections import Counter\n",
        "    # Se crea una lista vacia donde se va a guardar la propiedad de cada aminoácido\n",
        "    list_propiedades_proteina = list()\n",
        "    contador = list()\n",
        "\n",
        "    # Se va a iterar por cada aminoácido de la proteína\n",
        "    for element in lista_proteina:\n",
        "\n",
        "        # Se busca la propiedad del aminoácido y se guarda en la lista (.append())\n",
        "        list_propiedades_proteina.append(propiedades[element])\n",
        "        # Se llama al método Counter para organizar los datos\n",
        "        contador = Counter(list_propiedades_proteina)\n",
        "    print(f'Resumen de propiedades de la proteína:')\n",
        "    print(f'Total elementos: {len(lista_proteina)}')\n",
        "    print(f'Frecuenca de las propiedades: {dict(contador)}')\n",
        "    print(f'Propiedad más común: {contador.most_common(1)[0]}')\n",
        "\n",
        "    return None"
      ],
      "metadata": {
        "id": "o18fobMbzORo"
      },
      "execution_count": null,
      "outputs": []
    },
    {
      "cell_type": "code",
      "source": [
        "print(proteina)\n",
        "print('-----------')\n",
        "total_elements(proteina)"
      ],
      "metadata": {
        "colab": {
          "base_uri": "https://localhost:8080/"
        },
        "id": "mF-94UExzPOI",
        "outputId": "fb59b3cf-64b6-4a16-cce7-8b26f36d0204"
      },
      "execution_count": null,
      "outputs": [
        {
          "output_type": "stream",
          "name": "stdout",
          "text": [
            "['M', 'P', 'A', 'P', 'P', 'S', 'P', 'A', 'G', 'S', 'P', 'R', 'P', 'L', 'P', 'R', 'L', 'A', 'A', 'A', 'V', 'P', 'M']\n",
            "-----------\n",
            "Resumen de propiedades de la proteína:\n",
            "Total elementos: 23\n",
            "Frecuenca de las propiedades: {'Apolar': 19, 'Polar': 2, 'Básicos': 2}\n",
            "Propiedad más común: ('Apolar', 19)\n"
          ]
        }
      ]
    },
    {
      "cell_type": "code",
      "source": [],
      "metadata": {
        "id": "oop_04EMzT-n"
      },
      "execution_count": null,
      "outputs": []
    }
  ]
}